{
  "cells": [
    {
      "cell_type": "code",
      "execution_count": 1,
      "metadata": {
        "colab": {
          "base_uri": "https://localhost:8080/"
        },
        "id": "WrUU53X3NQIa",
        "outputId": "3bcc9453-c75d-45ba-8d26-22230c0abd9a"
      },
      "outputs": [
        {
          "output_type": "stream",
          "name": "stdout",
          "text": [
            "Collecting pymorphy2\n",
            "  Downloading pymorphy2-0.9.1-py3-none-any.whl (55 kB)\n",
            "\u001b[?25l\r\u001b[K     |██████                          | 10 kB 30.7 MB/s eta 0:00:01\r\u001b[K     |███████████▉                    | 20 kB 28.0 MB/s eta 0:00:01\r\u001b[K     |█████████████████▊              | 30 kB 19.2 MB/s eta 0:00:01\r\u001b[K     |███████████████████████▋        | 40 kB 14.5 MB/s eta 0:00:01\r\u001b[K     |█████████████████████████████▌  | 51 kB 16.3 MB/s eta 0:00:01\r\u001b[K     |████████████████████████████████| 55 kB 2.9 MB/s \n",
            "\u001b[?25hCollecting pymorphy2-dicts-ru<3.0,>=2.4\n",
            "  Downloading pymorphy2_dicts_ru-2.4.417127.4579844-py2.py3-none-any.whl (8.2 MB)\n",
            "\u001b[K     |████████████████████████████████| 8.2 MB 21.9 MB/s \n",
            "\u001b[?25hCollecting dawg-python>=0.7.1\n",
            "  Downloading DAWG_Python-0.7.2-py2.py3-none-any.whl (11 kB)\n",
            "Requirement already satisfied: docopt>=0.6 in /usr/local/lib/python3.7/dist-packages (from pymorphy2) (0.6.2)\n",
            "Installing collected packages: pymorphy2-dicts-ru, dawg-python, pymorphy2\n",
            "Successfully installed dawg-python-0.7.2 pymorphy2-0.9.1 pymorphy2-dicts-ru-2.4.417127.4579844\n"
          ]
        }
      ],
      "source": [
        "!pip install pymorphy2"
      ]
    },
    {
      "cell_type": "code",
      "execution_count": 2,
      "metadata": {
        "colab": {
          "base_uri": "https://localhost:8080/"
        },
        "id": "MZJ6P15DNQIh",
        "outputId": "a280bf82-794a-4e86-f3a5-2e5d273145bc"
      },
      "outputs": [
        {
          "output_type": "stream",
          "name": "stdout",
          "text": [
            "[nltk_data] Downloading package stopwords to /root/nltk_data...\n",
            "[nltk_data]   Unzipping corpora/stopwords.zip.\n"
          ]
        },
        {
          "output_type": "execute_result",
          "data": {
            "text/plain": [
              "True"
            ]
          },
          "metadata": {},
          "execution_count": 2
        }
      ],
      "source": [
        "import numpy as np\n",
        "import pandas as pd\n",
        "import matplotlib.pyplot as plt\n",
        "import seaborn as sns\n",
        "import re\n",
        "import pymorphy2\n",
        "import nltk\n",
        "from tqdm import tqdm\n",
        "from sklearn.feature_extraction.text import TfidfVectorizer, CountVectorizer\n",
        "from sklearn.ensemble import RandomForestClassifier, GradientBoostingClassifier, RandomForestRegressor\n",
        "from sklearn.linear_model import LogisticRegression, SGDClassifier\n",
        "from sklearn.pipeline import Pipeline, FeatureUnion\n",
        "from sklearn.model_selection import train_test_split, GridSearchCV\n",
        "from sklearn.metrics import f1_score, accuracy_score, roc_auc_score\n",
        "nltk.download('stopwords')"
      ]
    },
    {
      "cell_type": "code",
      "execution_count": 3,
      "metadata": {
        "id": "KMf149TSNQIk"
      },
      "outputs": [],
      "source": [
        "articles = pd.read_csv('articles.csv', sep=';', encoding='utf-8')"
      ]
    },
    {
      "cell_type": "code",
      "execution_count": 4,
      "metadata": {
        "colab": {
          "base_uri": "https://localhost:8080/",
          "height": 736
        },
        "id": "rYIcc3ZyNQIl",
        "outputId": "68b04a46-f98f-43b5-e739-80d85ab3fcbf"
      },
      "outputs": [
        {
          "output_type": "execute_result",
          "data": {
            "text/html": [
              "\n",
              "  <div id=\"df-656e0e7e-9360-4d9e-b619-bf3e5c8c8e8e\">\n",
              "    <div class=\"colab-df-container\">\n",
              "      <div>\n",
              "<style scoped>\n",
              "    .dataframe tbody tr th:only-of-type {\n",
              "        vertical-align: middle;\n",
              "    }\n",
              "\n",
              "    .dataframe tbody tr th {\n",
              "        vertical-align: top;\n",
              "    }\n",
              "\n",
              "    .dataframe thead th {\n",
              "        text-align: right;\n",
              "    }\n",
              "</style>\n",
              "<table border=\"1\" class=\"dataframe\">\n",
              "  <thead>\n",
              "    <tr style=\"text-align: right;\">\n",
              "      <th></th>\n",
              "      <th>title</th>\n",
              "      <th>year</th>\n",
              "      <th>authors</th>\n",
              "      <th>link</th>\n",
              "      <th>ВАК</th>\n",
              "      <th>Scopus</th>\n",
              "      <th>ECSI</th>\n",
              "      <th>RSCI</th>\n",
              "      <th>theme</th>\n",
              "    </tr>\n",
              "  </thead>\n",
              "  <tbody>\n",
              "    <tr>\n",
              "      <th>0</th>\n",
              "      <td>THE ASSOTIATION OF PERSONALITY DISORDERS AND L...</td>\n",
              "      <td>2021</td>\n",
              "      <td>[' Krsteska R.']</td>\n",
              "      <td>https://cyberleninka.ru//article/n/the-assotia...</td>\n",
              "      <td>1</td>\n",
              "      <td>0</td>\n",
              "      <td>0</td>\n",
              "      <td>0</td>\n",
              "      <td>Фундаментальная медицина</td>\n",
              "    </tr>\n",
              "    <tr>\n",
              "      <th>1</th>\n",
              "      <td>СИМУЛЯЦИОННЫЙ КУРС КАК ОСНОВА ПОДГОТОВКИ СПЕЦИ...</td>\n",
              "      <td>2021</td>\n",
              "      <td>[' Таиров В.В.', ' Адамчик А.А.', ' Камышников...</td>\n",
              "      <td>https://cyberleninka.ru//article/n/simulyatsio...</td>\n",
              "      <td>1</td>\n",
              "      <td>0</td>\n",
              "      <td>0</td>\n",
              "      <td>0</td>\n",
              "      <td>Фундаментальная медицина</td>\n",
              "    </tr>\n",
              "    <tr>\n",
              "      <th>2</th>\n",
              "      <td>ИССЛЕДОВАНИЕ ПРОИЗВОДНОГО 3-ОКСИПИРИДИНА НА БЕ...</td>\n",
              "      <td>2021</td>\n",
              "      <td>[' Трескунова Е.В.', ' Свиридонова С.В.']</td>\n",
              "      <td>https://cyberleninka.ru//article/n/issledovani...</td>\n",
              "      <td>1</td>\n",
              "      <td>0</td>\n",
              "      <td>0</td>\n",
              "      <td>0</td>\n",
              "      <td>Фундаментальная медицина</td>\n",
              "    </tr>\n",
              "    <tr>\n",
              "      <th>3</th>\n",
              "      <td>ВОПРОСЫ БЕЗОПАСНОСТИ РАЗРАБОТАННОЙ СУСПЕНЗИИ П...</td>\n",
              "      <td>2021</td>\n",
              "      <td>[' Илькевич Е.В.', ' Воронков А.В.', ' Степано...</td>\n",
              "      <td>https://cyberleninka.ru//article/n/voprosy-bez...</td>\n",
              "      <td>1</td>\n",
              "      <td>0</td>\n",
              "      <td>0</td>\n",
              "      <td>0</td>\n",
              "      <td>Фундаментальная медицина</td>\n",
              "    </tr>\n",
              "    <tr>\n",
              "      <th>4</th>\n",
              "      <td>РАЗРАБОТКА И ВАЛИДАЦИЯ ВЭЖХ-МС/МС МЕТОДИКИ КОЛ...</td>\n",
              "      <td>2021</td>\n",
              "      <td>[' Шестакова К.М.', ' Москалева Н.Е.', ' Месон...</td>\n",
              "      <td>https://cyberleninka.ru//article/n/razrabotka-...</td>\n",
              "      <td>1</td>\n",
              "      <td>0</td>\n",
              "      <td>0</td>\n",
              "      <td>0</td>\n",
              "      <td>Фундаментальная медицина</td>\n",
              "    </tr>\n",
              "    <tr>\n",
              "      <th>5</th>\n",
              "      <td>ПРИМЕНЕНИЕ УЛЬТРАФИЛЬТРАЦИОННЫХ МЕМБРАН ДЛЯ ОЧ...</td>\n",
              "      <td>2021</td>\n",
              "      <td>[' Ковпак А.А.', ' Ивин Ю.Ю.', ' Пиняева А.Н.'...</td>\n",
              "      <td>https://cyberleninka.ru//article/n/primenenie-...</td>\n",
              "      <td>1</td>\n",
              "      <td>0</td>\n",
              "      <td>0</td>\n",
              "      <td>1</td>\n",
              "      <td>Фундаментальная медицина</td>\n",
              "    </tr>\n",
              "    <tr>\n",
              "      <th>6</th>\n",
              "      <td>ВЛИЯНИЕ ИММУНОМОДУЛЯЦИИ НА ВНУТРИКЛЕТОЧНУЮ ЭКС...</td>\n",
              "      <td>2021</td>\n",
              "      <td>[' Клюева С.Н.', ' Гончарова А.Ю.', ' Кравцов ...</td>\n",
              "      <td>https://cyberleninka.ru//article/n/vliyanie-im...</td>\n",
              "      <td>1</td>\n",
              "      <td>0</td>\n",
              "      <td>0</td>\n",
              "      <td>1</td>\n",
              "      <td>Фундаментальная медицина</td>\n",
              "    </tr>\n",
              "    <tr>\n",
              "      <th>7</th>\n",
              "      <td>АССОЦИАЦИЯ УВЕЛИЧЕНИЯ КОЛИЧЕСТВА ЦИРКУЛИРУЮЩИХ...</td>\n",
              "      <td>2021</td>\n",
              "      <td>[' Долгушин И.И.', ' Генкель В.В.', ' Батурина...</td>\n",
              "      <td>https://cyberleninka.ru//article/n/assotsiatsi...</td>\n",
              "      <td>1</td>\n",
              "      <td>0</td>\n",
              "      <td>0</td>\n",
              "      <td>1</td>\n",
              "      <td>Фундаментальная медицина</td>\n",
              "    </tr>\n",
              "    <tr>\n",
              "      <th>8</th>\n",
              "      <td>ДЕСЯТИЛЕТНЕЕ НАБЛЮДЕНИЕ ЗА СЕНСИБИЛИЗАЦИЕЙ К К...</td>\n",
              "      <td>2021</td>\n",
              "      <td>[' Петрова С.Ю.', ' Хлгатян С.В.', ' Бержец В....</td>\n",
              "      <td>https://cyberleninka.ru//article/n/desyatiletn...</td>\n",
              "      <td>1</td>\n",
              "      <td>0</td>\n",
              "      <td>0</td>\n",
              "      <td>1</td>\n",
              "      <td>Фундаментальная медицина</td>\n",
              "    </tr>\n",
              "    <tr>\n",
              "      <th>9</th>\n",
              "      <td>СОВРЕМЕННАЯ СТРАТЕГИЯ КОНТРОЛЯ ВИРУСНОГО ГЕПАТ...</td>\n",
              "      <td>2021</td>\n",
              "      <td>[' Михайлов М.И.', ' Кюрегян К.К.']</td>\n",
              "      <td>https://cyberleninka.ru//article/n/sovremennay...</td>\n",
              "      <td>1</td>\n",
              "      <td>0</td>\n",
              "      <td>0</td>\n",
              "      <td>1</td>\n",
              "      <td>Фундаментальная медицина</td>\n",
              "    </tr>\n",
              "  </tbody>\n",
              "</table>\n",
              "</div>\n",
              "      <button class=\"colab-df-convert\" onclick=\"convertToInteractive('df-656e0e7e-9360-4d9e-b619-bf3e5c8c8e8e')\"\n",
              "              title=\"Convert this dataframe to an interactive table.\"\n",
              "              style=\"display:none;\">\n",
              "        \n",
              "  <svg xmlns=\"http://www.w3.org/2000/svg\" height=\"24px\"viewBox=\"0 0 24 24\"\n",
              "       width=\"24px\">\n",
              "    <path d=\"M0 0h24v24H0V0z\" fill=\"none\"/>\n",
              "    <path d=\"M18.56 5.44l.94 2.06.94-2.06 2.06-.94-2.06-.94-.94-2.06-.94 2.06-2.06.94zm-11 1L8.5 8.5l.94-2.06 2.06-.94-2.06-.94L8.5 2.5l-.94 2.06-2.06.94zm10 10l.94 2.06.94-2.06 2.06-.94-2.06-.94-.94-2.06-.94 2.06-2.06.94z\"/><path d=\"M17.41 7.96l-1.37-1.37c-.4-.4-.92-.59-1.43-.59-.52 0-1.04.2-1.43.59L10.3 9.45l-7.72 7.72c-.78.78-.78 2.05 0 2.83L4 21.41c.39.39.9.59 1.41.59.51 0 1.02-.2 1.41-.59l7.78-7.78 2.81-2.81c.8-.78.8-2.07 0-2.86zM5.41 20L4 18.59l7.72-7.72 1.47 1.35L5.41 20z\"/>\n",
              "  </svg>\n",
              "      </button>\n",
              "      \n",
              "  <style>\n",
              "    .colab-df-container {\n",
              "      display:flex;\n",
              "      flex-wrap:wrap;\n",
              "      gap: 12px;\n",
              "    }\n",
              "\n",
              "    .colab-df-convert {\n",
              "      background-color: #E8F0FE;\n",
              "      border: none;\n",
              "      border-radius: 50%;\n",
              "      cursor: pointer;\n",
              "      display: none;\n",
              "      fill: #1967D2;\n",
              "      height: 32px;\n",
              "      padding: 0 0 0 0;\n",
              "      width: 32px;\n",
              "    }\n",
              "\n",
              "    .colab-df-convert:hover {\n",
              "      background-color: #E2EBFA;\n",
              "      box-shadow: 0px 1px 2px rgba(60, 64, 67, 0.3), 0px 1px 3px 1px rgba(60, 64, 67, 0.15);\n",
              "      fill: #174EA6;\n",
              "    }\n",
              "\n",
              "    [theme=dark] .colab-df-convert {\n",
              "      background-color: #3B4455;\n",
              "      fill: #D2E3FC;\n",
              "    }\n",
              "\n",
              "    [theme=dark] .colab-df-convert:hover {\n",
              "      background-color: #434B5C;\n",
              "      box-shadow: 0px 1px 3px 1px rgba(0, 0, 0, 0.15);\n",
              "      filter: drop-shadow(0px 1px 2px rgba(0, 0, 0, 0.3));\n",
              "      fill: #FFFFFF;\n",
              "    }\n",
              "  </style>\n",
              "\n",
              "      <script>\n",
              "        const buttonEl =\n",
              "          document.querySelector('#df-656e0e7e-9360-4d9e-b619-bf3e5c8c8e8e button.colab-df-convert');\n",
              "        buttonEl.style.display =\n",
              "          google.colab.kernel.accessAllowed ? 'block' : 'none';\n",
              "\n",
              "        async function convertToInteractive(key) {\n",
              "          const element = document.querySelector('#df-656e0e7e-9360-4d9e-b619-bf3e5c8c8e8e');\n",
              "          const dataTable =\n",
              "            await google.colab.kernel.invokeFunction('convertToInteractive',\n",
              "                                                     [key], {});\n",
              "          if (!dataTable) return;\n",
              "\n",
              "          const docLinkHtml = 'Like what you see? Visit the ' +\n",
              "            '<a target=\"_blank\" href=https://colab.research.google.com/notebooks/data_table.ipynb>data table notebook</a>'\n",
              "            + ' to learn more about interactive tables.';\n",
              "          element.innerHTML = '';\n",
              "          dataTable['output_type'] = 'display_data';\n",
              "          await google.colab.output.renderOutput(dataTable, element);\n",
              "          const docLink = document.createElement('div');\n",
              "          docLink.innerHTML = docLinkHtml;\n",
              "          element.appendChild(docLink);\n",
              "        }\n",
              "      </script>\n",
              "    </div>\n",
              "  </div>\n",
              "  "
            ],
            "text/plain": [
              "                                               title  ...                     theme\n",
              "0  THE ASSOTIATION OF PERSONALITY DISORDERS AND L...  ...  Фундаментальная медицина\n",
              "1  СИМУЛЯЦИОННЫЙ КУРС КАК ОСНОВА ПОДГОТОВКИ СПЕЦИ...  ...  Фундаментальная медицина\n",
              "2  ИССЛЕДОВАНИЕ ПРОИЗВОДНОГО 3-ОКСИПИРИДИНА НА БЕ...  ...  Фундаментальная медицина\n",
              "3  ВОПРОСЫ БЕЗОПАСНОСТИ РАЗРАБОТАННОЙ СУСПЕНЗИИ П...  ...  Фундаментальная медицина\n",
              "4  РАЗРАБОТКА И ВАЛИДАЦИЯ ВЭЖХ-МС/МС МЕТОДИКИ КОЛ...  ...  Фундаментальная медицина\n",
              "5  ПРИМЕНЕНИЕ УЛЬТРАФИЛЬТРАЦИОННЫХ МЕМБРАН ДЛЯ ОЧ...  ...  Фундаментальная медицина\n",
              "6  ВЛИЯНИЕ ИММУНОМОДУЛЯЦИИ НА ВНУТРИКЛЕТОЧНУЮ ЭКС...  ...  Фундаментальная медицина\n",
              "7  АССОЦИАЦИЯ УВЕЛИЧЕНИЯ КОЛИЧЕСТВА ЦИРКУЛИРУЮЩИХ...  ...  Фундаментальная медицина\n",
              "8  ДЕСЯТИЛЕТНЕЕ НАБЛЮДЕНИЕ ЗА СЕНСИБИЛИЗАЦИЕЙ К К...  ...  Фундаментальная медицина\n",
              "9  СОВРЕМЕННАЯ СТРАТЕГИЯ КОНТРОЛЯ ВИРУСНОГО ГЕПАТ...  ...  Фундаментальная медицина\n",
              "\n",
              "[10 rows x 9 columns]"
            ]
          },
          "metadata": {},
          "execution_count": 4
        }
      ],
      "source": [
        "articles.head(10)"
      ]
    },
    {
      "cell_type": "markdown",
      "metadata": {
        "id": "9K87lM1vNQIm"
      },
      "source": [
        "Посмотрим, сколько статей каждой темы находятся в датасете:"
      ]
    },
    {
      "cell_type": "code",
      "execution_count": 5,
      "metadata": {
        "colab": {
          "base_uri": "https://localhost:8080/",
          "height": 864
        },
        "id": "0wRKQnVYNQIp",
        "outputId": "7aa8a349-8587-4391-85fc-8d438df76226"
      },
      "outputs": [
        {
          "output_type": "display_data",
          "data": {
            "image/png": "[encoded data removed]",
            "text/plain": [
              "<Figure size 1080x720 with 1 Axes>"
            ]
          },
          "metadata": {
            "needs_background": "light"
          }
        }
      ],
      "source": [
        "f, ax = plt.subplots(figsize=(15, 10))\n",
        "chart = sns.countplot(data=articles, x='theme')\n",
        "ch = chart.set_xticklabels(chart.get_xticklabels(), rotation=45, horizontalalignment='right')"
      ]
    },
    {
      "cell_type": "code",
      "execution_count": 6,
      "metadata": {
        "colab": {
          "base_uri": "https://localhost:8080/",
          "height": 621
        },
        "id": "8kxJcCKgNQIq",
        "outputId": "c12b3923-46cc-4edf-90e4-959644d516b3"
      },
      "outputs": [
        {
          "output_type": "display_data",
          "data": {
            "image/png": "[encoded data removed]",
            "text/plain": [
              "<Figure size 1080x720 with 1 Axes>"
            ]
          },
          "metadata": {
            "needs_background": "light"
          }
        }
      ],
      "source": [
        "f, ax = plt.subplots(figsize=(15, 10))\n",
        "chart = sns.countplot(data=articles[articles.year > 1990], x='year')\n",
        "ch = chart.set_xticklabels(chart.get_xticklabels(), rotation=45, horizontalalignment='right')"
      ]
    },
    {
      "cell_type": "code",
      "execution_count": 7,
      "metadata": {
        "id": "dhPBJ6-oNQIr"
      },
      "outputs": [],
      "source": [
        "TOKEN_PATTERN = \"[А-ЯЁа-яёA-Za-z]+\"\n",
        "def tokenize(text):\n",
        "    return re.findall(TOKEN_PATTERN, text.lower())"
      ]
    },
    {
      "cell_type": "code",
      "execution_count": 8,
      "metadata": {
        "id": "iDl_SW_qNQIs"
      },
      "outputs": [],
      "source": [
        "corpus = articles.title.values"
      ]
    },
    {
      "cell_type": "code",
      "execution_count": 9,
      "metadata": {
        "id": "zAn7PaxxNQIu"
      },
      "outputs": [],
      "source": [
        "docs = [tokenize(title) for title in corpus]"
      ]
    },
    {
      "cell_type": "code",
      "execution_count": 10,
      "metadata": {
        "id": "UemoPPNeNQIv"
      },
      "outputs": [],
      "source": [
        "#sw = set(['ru', 'mail', 'mp', 'com', 'страница', 'org', 'gp', 'net'])\n",
        "stopword_set_ru = nltk.corpus.stopwords.words('russian')\n",
        "stopword_set_eng = set(nltk.corpus.stopwords.words('english'))\n",
        "stopwords = stopword_set_eng.union(stopword_set_ru)"
      ]
    },
    {
      "cell_type": "code",
      "execution_count": 11,
      "metadata": {
        "id": "Y2rBLEUXNQIv"
      },
      "outputs": [],
      "source": [
        "lemmatizer = pymorphy2.MorphAnalyzer()"
      ]
    },
    {
      "cell_type": "code",
      "execution_count": 12,
      "metadata": {
        "colab": {
          "base_uri": "https://localhost:8080/"
        },
        "id": "3dUCFtZVNQIw",
        "outputId": "052d80aa-b919-4b0c-e123-fa8a52134636"
      },
      "outputs": [
        {
          "output_type": "stream",
          "name": "stderr",
          "text": [
            "100%|██████████| 178293/178293 [01:30<00:00, 1971.22it/s]\n"
          ]
        }
      ],
      "source": [
        "lemmatizer_cache = {}\n",
        "\n",
        "def lemmatize(token):\n",
        "    if lemmatizer.word_is_known(token):\n",
        "        if token not in lemmatizer_cache:\n",
        "            lemmatizer_cache[token] = lemmatizer.parse(token)[0].normal_form\n",
        "        return lemmatizer_cache[token]\n",
        "    return token\n",
        "\n",
        "lemmatized_docs = [[lemmatize(token) for token in text] for text in tqdm(docs)]\n",
        "\n",
        "cleared_docs = [[token for token in text if token not in stopwords] for text in lemmatized_docs]"
      ]
    },
    {
      "cell_type": "code",
      "execution_count": 13,
      "metadata": {
        "id": "NpbR7_oRNQIx"
      },
      "outputs": [],
      "source": [
        "def conect(array):\n",
        "    string = \"\"\n",
        "    for i in range(len(array)):\n",
        "        string += str(array[i])+' '\n",
        "    return string.rstrip()"
      ]
    },
    {
      "cell_type": "code",
      "execution_count": 14,
      "metadata": {
        "id": "dSXxfD5bNQIx"
      },
      "outputs": [],
      "source": [
        "df = pd.DataFrame({\"title\": cleared_docs})"
      ]
    },
    {
      "cell_type": "code",
      "execution_count": 15,
      "metadata": {
        "id": "gkeqcjG3NQIy"
      },
      "outputs": [],
      "source": [
        "df = df[\"title\"].apply(conect)"
      ]
    },
    {
      "cell_type": "code",
      "execution_count": 16,
      "metadata": {
        "id": "WiLvbqfgNQIy"
      },
      "outputs": [],
      "source": [
        "articles.title = df"
      ]
    },
    {
      "cell_type": "code",
      "execution_count": 17,
      "metadata": {
        "colab": {
          "base_uri": "https://localhost:8080/",
          "height": 796
        },
        "id": "l-W4oFqTNQIy",
        "outputId": "e2279d1a-deff-4f3b-c9a6-8e856b008f3a"
      },
      "outputs": [
        {
          "output_type": "execute_result",
          "data": {
            "text/html": [
              "\n",
              "  <div id=\"df-750b5ed1-c6ce-40c4-ad53-50b8fdf3b49e\">\n",
              "    <div class=\"colab-df-container\">\n",
              "      <div>\n",
              "<style scoped>\n",
              "    .dataframe tbody tr th:only-of-type {\n",
              "        vertical-align: middle;\n",
              "    }\n",
              "\n",
              "    .dataframe tbody tr th {\n",
              "        vertical-align: top;\n",
              "    }\n",
              "\n",
              "    .dataframe thead th {\n",
              "        text-align: right;\n",
              "    }\n",
              "</style>\n",
              "<table border=\"1\" class=\"dataframe\">\n",
              "  <thead>\n",
              "    <tr style=\"text-align: right;\">\n",
              "      <th></th>\n",
              "      <th>title</th>\n",
              "      <th>year</th>\n",
              "      <th>authors</th>\n",
              "      <th>link</th>\n",
              "      <th>ВАК</th>\n",
              "      <th>Scopus</th>\n",
              "      <th>ECSI</th>\n",
              "      <th>RSCI</th>\n",
              "      <th>theme</th>\n",
              "    </tr>\n",
              "  </thead>\n",
              "  <tbody>\n",
              "    <tr>\n",
              "      <th>0</th>\n",
              "      <td>assotiation personality disorders late life de...</td>\n",
              "      <td>2021</td>\n",
              "      <td>[' Krsteska R.']</td>\n",
              "      <td>https://cyberleninka.ru//article/n/the-assotia...</td>\n",
              "      <td>1</td>\n",
              "      <td>0</td>\n",
              "      <td>0</td>\n",
              "      <td>0</td>\n",
              "      <td>Фундаментальная медицина</td>\n",
              "    </tr>\n",
              "    <tr>\n",
              "      <th>1</th>\n",
              "      <td>симуляционный курс основа подготовка специалис...</td>\n",
              "      <td>2021</td>\n",
              "      <td>[' Таиров В.В.', ' Адамчик А.А.', ' Камышников...</td>\n",
              "      <td>https://cyberleninka.ru//article/n/simulyatsio...</td>\n",
              "      <td>1</td>\n",
              "      <td>0</td>\n",
              "      <td>0</td>\n",
              "      <td>0</td>\n",
              "      <td>Фундаментальная медицина</td>\n",
              "    </tr>\n",
              "    <tr>\n",
              "      <th>2</th>\n",
              "      <td>исследование производный оксипиридина белковоо...</td>\n",
              "      <td>2021</td>\n",
              "      <td>[' Трескунова Е.В.', ' Свиридонова С.В.']</td>\n",
              "      <td>https://cyberleninka.ru//article/n/issledovani...</td>\n",
              "      <td>1</td>\n",
              "      <td>0</td>\n",
              "      <td>0</td>\n",
              "      <td>0</td>\n",
              "      <td>Фундаментальная медицина</td>\n",
              "    </tr>\n",
              "    <tr>\n",
              "      <th>3</th>\n",
              "      <td>вопрос безопасность разработать суспензия пиро...</td>\n",
              "      <td>2021</td>\n",
              "      <td>[' Илькевич Е.В.', ' Воронков А.В.', ' Степано...</td>\n",
              "      <td>https://cyberleninka.ru//article/n/voprosy-bez...</td>\n",
              "      <td>1</td>\n",
              "      <td>0</td>\n",
              "      <td>0</td>\n",
              "      <td>0</td>\n",
              "      <td>Фундаментальная медицина</td>\n",
              "    </tr>\n",
              "    <tr>\n",
              "      <th>4</th>\n",
              "      <td>разработка валидация вэжх мс мс методика колич...</td>\n",
              "      <td>2021</td>\n",
              "      <td>[' Шестакова К.М.', ' Москалева Н.Е.', ' Месон...</td>\n",
              "      <td>https://cyberleninka.ru//article/n/razrabotka-...</td>\n",
              "      <td>1</td>\n",
              "      <td>0</td>\n",
              "      <td>0</td>\n",
              "      <td>0</td>\n",
              "      <td>Фундаментальная медицина</td>\n",
              "    </tr>\n",
              "    <tr>\n",
              "      <th>...</th>\n",
              "      <td>...</td>\n",
              "      <td>...</td>\n",
              "      <td>...</td>\n",
              "      <td>...</td>\n",
              "      <td>...</td>\n",
              "      <td>...</td>\n",
              "      <td>...</td>\n",
              "      <td>...</td>\n",
              "      <td>...</td>\n",
              "    </tr>\n",
              "    <tr>\n",
              "      <th>178288</th>\n",
              "      <td>особенность работа сми советский постсоветский...</td>\n",
              "      <td>2013</td>\n",
              "      <td>[' Касаткин Сергей Сергеевич']</td>\n",
              "      <td>https://cyberleninka.ru//article/n/osobennosti...</td>\n",
              "      <td>1</td>\n",
              "      <td>0</td>\n",
              "      <td>0</td>\n",
              "      <td>0</td>\n",
              "      <td>СМИ (медиа) и массовые коммуникации</td>\n",
              "    </tr>\n",
              "    <tr>\n",
              "      <th>178289</th>\n",
              "      <td>подросток интернет среда общение чтение поведение</td>\n",
              "      <td>2013</td>\n",
              "      <td>[' Губанова Александра Юрьевна']</td>\n",
              "      <td>https://cyberleninka.ru//article/n/podrostki-v...</td>\n",
              "      <td>1</td>\n",
              "      <td>0</td>\n",
              "      <td>0</td>\n",
              "      <td>0</td>\n",
              "      <td>СМИ (медиа) и массовые коммуникации</td>\n",
              "    </tr>\n",
              "    <tr>\n",
              "      <th>178290</th>\n",
              "      <td>социальный картографирование эволюция метод</td>\n",
              "      <td>2013</td>\n",
              "      <td>[' Стрельникова Анна Владимировна']</td>\n",
              "      <td>https://cyberleninka.ru//article/n/sotsialnoe-...</td>\n",
              "      <td>1</td>\n",
              "      <td>0</td>\n",
              "      <td>0</td>\n",
              "      <td>0</td>\n",
              "      <td>СМИ (медиа) и массовые коммуникации</td>\n",
              "    </tr>\n",
              "    <tr>\n",
              "      <th>178291</th>\n",
              "      <td>специфика метод медиаметрических исследование ...</td>\n",
              "      <td>2012</td>\n",
              "      <td>[' Попов Владимир Владимирович']</td>\n",
              "      <td>https://cyberleninka.ru//article/n/spetsifika-...</td>\n",
              "      <td>1</td>\n",
              "      <td>0</td>\n",
              "      <td>0</td>\n",
              "      <td>0</td>\n",
              "      <td>СМИ (медиа) и массовые коммуникации</td>\n",
              "    </tr>\n",
              "    <tr>\n",
              "      <th>178292</th>\n",
              "      <td>аудитория современный московский театр социоку...</td>\n",
              "      <td>2012</td>\n",
              "      <td>[' Круковская Анна Владимировна']</td>\n",
              "      <td>https://cyberleninka.ru//article/n/auditoriya-...</td>\n",
              "      <td>1</td>\n",
              "      <td>0</td>\n",
              "      <td>0</td>\n",
              "      <td>0</td>\n",
              "      <td>СМИ (медиа) и массовые коммуникации</td>\n",
              "    </tr>\n",
              "  </tbody>\n",
              "</table>\n",
              "<p>178293 rows × 9 columns</p>\n",
              "</div>\n",
              "      <button class=\"colab-df-convert\" onclick=\"convertToInteractive('df-750b5ed1-c6ce-40c4-ad53-50b8fdf3b49e')\"\n",
              "              title=\"Convert this dataframe to an interactive table.\"\n",
              "              style=\"display:none;\">\n",
              "        \n",
              "  <svg xmlns=\"http://www.w3.org/2000/svg\" height=\"24px\"viewBox=\"0 0 24 24\"\n",
              "       width=\"24px\">\n",
              "    <path d=\"M0 0h24v24H0V0z\" fill=\"none\"/>\n",
              "    <path d=\"M18.56 5.44l.94 2.06.94-2.06 2.06-.94-2.06-.94-.94-2.06-.94 2.06-2.06.94zm-11 1L8.5 8.5l.94-2.06 2.06-.94-2.06-.94L8.5 2.5l-.94 2.06-2.06.94zm10 10l.94 2.06.94-2.06 2.06-.94-2.06-.94-.94-2.06-.94 2.06-2.06.94z\"/><path d=\"M17.41 7.96l-1.37-1.37c-.4-.4-.92-.59-1.43-.59-.52 0-1.04.2-1.43.59L10.3 9.45l-7.72 7.72c-.78.78-.78 2.05 0 2.83L4 21.41c.39.39.9.59 1.41.59.51 0 1.02-.2 1.41-.59l7.78-7.78 2.81-2.81c.8-.78.8-2.07 0-2.86zM5.41 20L4 18.59l7.72-7.72 1.47 1.35L5.41 20z\"/>\n",
              "  </svg>\n",
              "      </button>\n",
              "      \n",
              "  <style>\n",
              "    .colab-df-container {\n",
              "      display:flex;\n",
              "      flex-wrap:wrap;\n",
              "      gap: 12px;\n",
              "    }\n",
              "\n",
              "    .colab-df-convert {\n",
              "      background-color: #E8F0FE;\n",
              "      border: none;\n",
              "      border-radius: 50%;\n",
              "      cursor: pointer;\n",
              "      display: none;\n",
              "      fill: #1967D2;\n",
              "      height: 32px;\n",
              "      padding: 0 0 0 0;\n",
              "      width: 32px;\n",
              "    }\n",
              "\n",
              "    .colab-df-convert:hover {\n",
              "      background-color: #E2EBFA;\n",
              "      box-shadow: 0px 1px 2px rgba(60, 64, 67, 0.3), 0px 1px 3px 1px rgba(60, 64, 67, 0.15);\n",
              "      fill: #174EA6;\n",
              "    }\n",
              "\n",
              "    [theme=dark] .colab-df-convert {\n",
              "      background-color: #3B4455;\n",
              "      fill: #D2E3FC;\n",
              "    }\n",
              "\n",
              "    [theme=dark] .colab-df-convert:hover {\n",
              "      background-color: #434B5C;\n",
              "      box-shadow: 0px 1px 3px 1px rgba(0, 0, 0, 0.15);\n",
              "      filter: drop-shadow(0px 1px 2px rgba(0, 0, 0, 0.3));\n",
              "      fill: #FFFFFF;\n",
              "    }\n",
              "  </style>\n",
              "\n",
              "      <script>\n",
              "        const buttonEl =\n",
              "          document.querySelector('#df-750b5ed1-c6ce-40c4-ad53-50b8fdf3b49e button.colab-df-convert');\n",
              "        buttonEl.style.display =\n",
              "          google.colab.kernel.accessAllowed ? 'block' : 'none';\n",
              "\n",
              "        async function convertToInteractive(key) {\n",
              "          const element = document.querySelector('#df-750b5ed1-c6ce-40c4-ad53-50b8fdf3b49e');\n",
              "          const dataTable =\n",
              "            await google.colab.kernel.invokeFunction('convertToInteractive',\n",
              "                                                     [key], {});\n",
              "          if (!dataTable) return;\n",
              "\n",
              "          const docLinkHtml = 'Like what you see? Visit the ' +\n",
              "            '<a target=\"_blank\" href=https://colab.research.google.com/notebooks/data_table.ipynb>data table notebook</a>'\n",
              "            + ' to learn more about interactive tables.';\n",
              "          element.innerHTML = '';\n",
              "          dataTable['output_type'] = 'display_data';\n",
              "          await google.colab.output.renderOutput(dataTable, element);\n",
              "          const docLink = document.createElement('div');\n",
              "          docLink.innerHTML = docLinkHtml;\n",
              "          element.appendChild(docLink);\n",
              "        }\n",
              "      </script>\n",
              "    </div>\n",
              "  </div>\n",
              "  "
            ],
            "text/plain": [
              "                                                    title  ...                                theme\n",
              "0       assotiation personality disorders late life de...  ...             Фундаментальная медицина\n",
              "1       симуляционный курс основа подготовка специалис...  ...             Фундаментальная медицина\n",
              "2       исследование производный оксипиридина белковоо...  ...             Фундаментальная медицина\n",
              "3       вопрос безопасность разработать суспензия пиро...  ...             Фундаментальная медицина\n",
              "4       разработка валидация вэжх мс мс методика колич...  ...             Фундаментальная медицина\n",
              "...                                                   ...  ...                                  ...\n",
              "178288  особенность работа сми советский постсоветский...  ...  СМИ (медиа) и массовые коммуникации\n",
              "178289  подросток интернет среда общение чтение поведение  ...  СМИ (медиа) и массовые коммуникации\n",
              "178290        социальный картографирование эволюция метод  ...  СМИ (медиа) и массовые коммуникации\n",
              "178291  специфика метод медиаметрических исследование ...  ...  СМИ (медиа) и массовые коммуникации\n",
              "178292  аудитория современный московский театр социоку...  ...  СМИ (медиа) и массовые коммуникации\n",
              "\n",
              "[178293 rows x 9 columns]"
            ]
          },
          "metadata": {},
          "execution_count": 17
        }
      ],
      "source": [
        "articles"
      ]
    },
    {
      "cell_type": "code",
      "execution_count": 18,
      "metadata": {
        "id": "nX4hajhPNQIz"
      },
      "outputs": [],
      "source": [
        "from sklearn.preprocessing import LabelEncoder"
      ]
    },
    {
      "cell_type": "code",
      "execution_count": 19,
      "metadata": {
        "id": "pQ9yS0EuNQIz"
      },
      "outputs": [],
      "source": [
        "le = LabelEncoder()"
      ]
    },
    {
      "cell_type": "code",
      "execution_count": null,
      "metadata": {
        "colab": {
          "base_uri": "https://localhost:8080/"
        },
        "id": "zxgBx5SkNQI0",
        "outputId": "f5758fe0-f163-442a-9316-c05cd0efcc58"
      },
      "outputs": [
        {
          "output_type": "execute_result",
          "data": {
            "text/plain": [
              "LabelEncoder()"
            ]
          },
          "metadata": {},
          "execution_count": 20
        }
      ],
      "source": [
        "le.fit(articles.theme)"
      ]
    },
    {
      "cell_type": "code",
      "execution_count": null,
      "metadata": {
        "id": "VpiWddLbNQI0"
      },
      "outputs": [],
      "source": [
        "articles.theme = le.transform(articles.theme)"
      ]
    },
    {
      "cell_type": "code",
      "execution_count": null,
      "metadata": {
        "id": "gghUY6LDNQI1"
      },
      "outputs": [],
      "source": [
        "data = articles['title']"
      ]
    },
    {
      "cell_type": "code",
      "source": [
        "data"
      ],
      "metadata": {
        "colab": {
          "base_uri": "https://localhost:8080/"
        },
        "id": "iDkPVZtGaYZ4",
        "outputId": "b2fe078e-e1db-4067-cb00-19a64cf03b0b"
      },
      "execution_count": null,
      "outputs": [
        {
          "output_type": "execute_result",
          "data": {
            "text/plain": [
              "0         assotiation personality disorders late life de...\n",
              "1         симуляционный курс основа подготовка специалис...\n",
              "2         исследование производный оксипиридина белковоо...\n",
              "3         вопрос безопасность разработать суспензия пиро...\n",
              "4         разработка валидация вэжх мс мс методика колич...\n",
              "                                ...                        \n",
              "178288    особенность работа сми советский постсоветский...\n",
              "178289    подросток интернет среда общение чтение поведение\n",
              "178290          социальный картографирование эволюция метод\n",
              "178291    специфика метод медиаметрических исследование ...\n",
              "178292    аудитория современный московский театр социоку...\n",
              "Name: title, Length: 178293, dtype: object"
            ]
          },
          "metadata": {},
          "execution_count": 23
        }
      ]
    },
    {
      "cell_type": "markdown",
      "source": [
        "### Baseline\n",
        "\n",
        "Baseline-модель на одном признаке - тексте названия статьи."
      ],
      "metadata": {
        "id": "ErNiG1XDYJHh"
      }
    },
    {
      "cell_type": "code",
      "execution_count": null,
      "metadata": {
        "id": "ceUUT-HfNQI2"
      },
      "outputs": [],
      "source": [
        "data_train, df_val = train_test_split(data, test_size=0.2, random_state=42)"
      ]
    },
    {
      "cell_type": "code",
      "execution_count": null,
      "metadata": {
        "id": "xWn2E9E5NQI2"
      },
      "outputs": [],
      "source": [
        "y = articles[\"theme\"].astype(int).values\n",
        "y_train, y_val = train_test_split(y, test_size=0.2, random_state=42)"
      ]
    },
    {
      "cell_type": "code",
      "execution_count": 59,
      "metadata": {
        "id": "sgCFzqLUNQI2"
      },
      "outputs": [],
      "source": [
        "from sklearn.base import TransformerMixin\n",
        "\n",
        "class ColumnExtractor(TransformerMixin):\n",
        "    \n",
        "    def __init__(self, column_name):\n",
        "        self.column_name = column_name\n",
        "    \n",
        "    def fit(self, X, y=None):\n",
        "        return self\n",
        "    \n",
        "    def transform(self, X, y=None):\n",
        "        return X[self.column_name].values"
      ]
    },
    {
      "cell_type": "code",
      "execution_count": 60,
      "metadata": {
        "id": "G0jRWFM5NQI3"
      },
      "outputs": [],
      "source": [
        "from sklearn.ensemble import VotingClassifier"
      ]
    },
    {
      "cell_type": "code",
      "execution_count": 62,
      "metadata": {
        "id": "USNfZ5ssNQI3"
      },
      "outputs": [],
      "source": [
        "pipeline = Pipeline([\n",
        "    (\n",
        "        'features', \n",
        "        FeatureUnion([\n",
        "            (\n",
        "                  'vectorizer', \n",
        "                  TfidfVectorizer(lowercase=True, ngram_range=(1, 1),\n",
        "                        min_df=5, max_df=0.9)  \n",
        "            )\n",
        "        ])\n",
        "    ),\n",
        "    ('clf', VotingClassifier(estimators = [('forest', RandomForestClassifier(n_estimators=100,\n",
        "                                                                         min_samples_leaf=1,\n",
        "                                                                         random_state=42,\n",
        "                                                                         max_features='sqrt',\n",
        "                                                                         class_weight = 'balanced',\n",
        "                                                                         n_jobs=None)),\n",
        "                                       ('logreg', LogisticRegression(random_state=42,\n",
        "                                                                     solver=\"liblinear\", \n",
        "                                                                     class_weight='balanced',\n",
        "                                                                     max_iter=1000, \n",
        "                                                                     C=5.0)),\n",
        "                                      ],\n",
        "                         voting='soft',\n",
        "                         n_jobs=None))\n",
        "])"
      ]
    },
    {
      "cell_type": "code",
      "execution_count": null,
      "metadata": {
        "colab": {
          "base_uri": "https://localhost:8080/"
        },
        "id": "31VQ4ntMNQI4",
        "outputId": "79a3c8ba-f515-4716-e524-3abb02dccd06"
      },
      "outputs": [
        {
          "output_type": "execute_result",
          "data": {
            "text/plain": [
              "Pipeline(steps=[('features',\n",
              "                 FeatureUnion(transformer_list=[('vectorizer',\n",
              "                                                 CountVectorizer(max_df=0.9,\n",
              "                                                                 min_df=5))])),\n",
              "                ('clf',\n",
              "                 VotingClassifier(estimators=[('forest',\n",
              "                                               RandomForestClassifier(class_weight='balanced',\n",
              "                                                                      max_features='sqrt',\n",
              "                                                                      random_state=42)),\n",
              "                                              ('logreg',\n",
              "                                               LogisticRegression(C=5.0,\n",
              "                                                                  class_weight='balanced',\n",
              "                                                                  max_iter=1000,\n",
              "                                                                  random_state=42,\n",
              "                                                                  solver='liblinear'))],\n",
              "                                  voting='soft'))])"
            ]
          },
          "metadata": {},
          "execution_count": 29
        }
      ],
      "source": [
        "pipeline.fit(data_train, y_train)"
      ]
    },
    {
      "cell_type": "code",
      "execution_count": 64,
      "metadata": {
        "id": "mTn1IBzWNQI5"
      },
      "outputs": [],
      "source": [
        "from sklearn.metrics import f1_score"
      ]
    },
    {
      "cell_type": "code",
      "source": [
        "y_pred = pipeline.predict(df_val)"
      ],
      "metadata": {
        "id": "qnI1Pw5caGZl"
      },
      "execution_count": null,
      "outputs": []
    },
    {
      "cell_type": "code",
      "execution_count": null,
      "metadata": {
        "id": "lRf-rf25NQI5",
        "colab": {
          "base_uri": "https://localhost:8080/"
        },
        "outputId": "0b5b48c1-b5a7-43b3-9c60-9b0c3105a71c"
      },
      "outputs": [
        {
          "output_type": "execute_result",
          "data": {
            "text/plain": [
              "0.5724781962477916"
            ]
          },
          "metadata": {},
          "execution_count": 32
        }
      ],
      "source": [
        "f1_score(\n",
        "    y_val,\n",
        "    y_pred,\n",
        "    average = 'micro'\n",
        ")"
      ]
    },
    {
      "cell_type": "code",
      "source": [
        "accuracy_score(\n",
        "    y_val,\n",
        "    y_pred\n",
        "  )"
      ],
      "metadata": {
        "id": "mWyRq6ENaCBP",
        "colab": {
          "base_uri": "https://localhost:8080/"
        },
        "outputId": "6da88ede-2bc9-4dcf-f09a-516428b7aad5"
      },
      "execution_count": null,
      "outputs": [
        {
          "output_type": "execute_result",
          "data": {
            "text/plain": [
              "0.5724781962477916"
            ]
          },
          "metadata": {},
          "execution_count": 33
        }
      ]
    },
    {
      "cell_type": "markdown",
      "source": [
        "Как можно заметить, предсказательная способность модели, построенной на одном признаке, мягко говоря, оставляет желать лучшего. Для решения этой проблемы в рамках задачи можно попробовать:\n",
        "- Сократить количство классов (обучать не на 36 углубленных темах, а на 6 более общих);\n",
        "- Добавить другие признаки, например можно сгенерировать признак - соотношение полов авторов статьи;\n",
        "- Обучить модель не на названиях статей, а на тексте самих статей (этот вариант потребует значительно большую вычислительную мощность чем для обучения только на названиях)"
      ],
      "metadata": {
        "id": "1MKq81ccdoED"
      }
    },
    {
      "cell_type": "code",
      "source": [
        "head = pd.read_csv(\"head.csv\", sep=';', encoding='1251').drop(['link'], axis=1)"
      ],
      "metadata": {
        "id": "1F5zCRHE8ywh"
      },
      "execution_count": 43,
      "outputs": []
    },
    {
      "cell_type": "code",
      "source": [
        "head"
      ],
      "metadata": {
        "colab": {
          "base_uri": "https://localhost:8080/",
          "height": 1000
        },
        "id": "Pv2-WdJ59Gxe",
        "outputId": "2e56f6cb-8cf1-46f6-a558-8ece0c4c304b"
      },
      "execution_count": 44,
      "outputs": [
        {
          "output_type": "execute_result",
          "data": {
            "text/html": [
              "\n",
              "  <div id=\"df-afdf0f02-1dc3-43d2-9265-4f44a19578c9\">\n",
              "    <div class=\"colab-df-container\">\n",
              "      <div>\n",
              "<style scoped>\n",
              "    .dataframe tbody tr th:only-of-type {\n",
              "        vertical-align: middle;\n",
              "    }\n",
              "\n",
              "    .dataframe tbody tr th {\n",
              "        vertical-align: top;\n",
              "    }\n",
              "\n",
              "    .dataframe thead th {\n",
              "        text-align: right;\n",
              "    }\n",
              "</style>\n",
              "<table border=\"1\" class=\"dataframe\">\n",
              "  <thead>\n",
              "    <tr style=\"text-align: right;\">\n",
              "      <th></th>\n",
              "      <th>main_theme</th>\n",
              "      <th>theme</th>\n",
              "    </tr>\n",
              "  </thead>\n",
              "  <tbody>\n",
              "    <tr>\n",
              "      <th>0</th>\n",
              "      <td>Медицинские науки</td>\n",
              "      <td>Фундаментальная медицина</td>\n",
              "    </tr>\n",
              "    <tr>\n",
              "      <th>1</th>\n",
              "      <td>Медицинские науки</td>\n",
              "      <td>Клиническая медицина</td>\n",
              "    </tr>\n",
              "    <tr>\n",
              "      <th>2</th>\n",
              "      <td>Медицинские науки</td>\n",
              "      <td>Науки о здоровье</td>\n",
              "    </tr>\n",
              "    <tr>\n",
              "      <th>3</th>\n",
              "      <td>Медицинские науки</td>\n",
              "      <td>Биотехнологии в медицине</td>\n",
              "    </tr>\n",
              "    <tr>\n",
              "      <th>4</th>\n",
              "      <td>Естественные и точные науки</td>\n",
              "      <td>Математика</td>\n",
              "    </tr>\n",
              "    <tr>\n",
              "      <th>5</th>\n",
              "      <td>Естественные и точные науки</td>\n",
              "      <td>Компьютерные и информационные науки</td>\n",
              "    </tr>\n",
              "    <tr>\n",
              "      <th>6</th>\n",
              "      <td>Естественные и точные науки</td>\n",
              "      <td>Физика</td>\n",
              "    </tr>\n",
              "    <tr>\n",
              "      <th>7</th>\n",
              "      <td>Естественные и точные науки</td>\n",
              "      <td>Химические науки</td>\n",
              "    </tr>\n",
              "    <tr>\n",
              "      <th>8</th>\n",
              "      <td>Естественные и точные науки</td>\n",
              "      <td>Науки о Земле и смежные экологические науки</td>\n",
              "    </tr>\n",
              "    <tr>\n",
              "      <th>9</th>\n",
              "      <td>Естественные и точные науки</td>\n",
              "      <td>Биологические науки</td>\n",
              "    </tr>\n",
              "    <tr>\n",
              "      <th>10</th>\n",
              "      <td>Техника и технологии</td>\n",
              "      <td>Строительство и архитектура</td>\n",
              "    </tr>\n",
              "    <tr>\n",
              "      <th>11</th>\n",
              "      <td>Техника и технологии</td>\n",
              "      <td>Электротехника, электронная техника, информаци...</td>\n",
              "    </tr>\n",
              "    <tr>\n",
              "      <th>12</th>\n",
              "      <td>Техника и технологии</td>\n",
              "      <td>Механика и машиностроение</td>\n",
              "    </tr>\n",
              "    <tr>\n",
              "      <th>13</th>\n",
              "      <td>Техника и технологии</td>\n",
              "      <td>Химические технологии</td>\n",
              "    </tr>\n",
              "    <tr>\n",
              "      <th>14</th>\n",
              "      <td>Техника и технологии</td>\n",
              "      <td>Технологии материалов</td>\n",
              "    </tr>\n",
              "    <tr>\n",
              "      <th>15</th>\n",
              "      <td>Техника и технологии</td>\n",
              "      <td>Медицинские технологии</td>\n",
              "    </tr>\n",
              "    <tr>\n",
              "      <th>16</th>\n",
              "      <td>Техника и технологии</td>\n",
              "      <td>Энергетика и рациональное природопользование</td>\n",
              "    </tr>\n",
              "    <tr>\n",
              "      <th>17</th>\n",
              "      <td>Техника и технологии</td>\n",
              "      <td>Экологические биотехнологии</td>\n",
              "    </tr>\n",
              "    <tr>\n",
              "      <th>18</th>\n",
              "      <td>Техника и технологии</td>\n",
              "      <td>Промышленные биотехнологии</td>\n",
              "    </tr>\n",
              "    <tr>\n",
              "      <th>19</th>\n",
              "      <td>Техника и технологии</td>\n",
              "      <td>Нанотехнологии</td>\n",
              "    </tr>\n",
              "    <tr>\n",
              "      <th>20</th>\n",
              "      <td>Гуманитарные науки</td>\n",
              "      <td>История и археология</td>\n",
              "    </tr>\n",
              "    <tr>\n",
              "      <th>21</th>\n",
              "      <td>Гуманитарные науки</td>\n",
              "      <td>Языкознание и литературоведение</td>\n",
              "    </tr>\n",
              "    <tr>\n",
              "      <th>22</th>\n",
              "      <td>Гуманитарные науки</td>\n",
              "      <td>Философия, этика, религиоведение</td>\n",
              "    </tr>\n",
              "    <tr>\n",
              "      <th>23</th>\n",
              "      <td>Гуманитарные науки</td>\n",
              "      <td>Искусствоведение</td>\n",
              "    </tr>\n",
              "    <tr>\n",
              "      <th>24</th>\n",
              "      <td>Сельскохозяйственные науки</td>\n",
              "      <td>Сельское хозяйство, лесное хозяйство, рыбное х...</td>\n",
              "    </tr>\n",
              "    <tr>\n",
              "      <th>25</th>\n",
              "      <td>Сельскохозяйственные науки</td>\n",
              "      <td>Животноводство и молочное дело</td>\n",
              "    </tr>\n",
              "    <tr>\n",
              "      <th>26</th>\n",
              "      <td>Сельскохозяйственные науки</td>\n",
              "      <td>Ветеринарные науки</td>\n",
              "    </tr>\n",
              "    <tr>\n",
              "      <th>27</th>\n",
              "      <td>Сельскохозяйственные науки</td>\n",
              "      <td>Агробиотехнологии</td>\n",
              "    </tr>\n",
              "    <tr>\n",
              "      <th>28</th>\n",
              "      <td>Социальные науки</td>\n",
              "      <td>Психологические науки</td>\n",
              "    </tr>\n",
              "    <tr>\n",
              "      <th>29</th>\n",
              "      <td>Социальные науки</td>\n",
              "      <td>Экономика и бизнес</td>\n",
              "    </tr>\n",
              "    <tr>\n",
              "      <th>30</th>\n",
              "      <td>Социальные науки</td>\n",
              "      <td>Науки об образовании</td>\n",
              "    </tr>\n",
              "    <tr>\n",
              "      <th>31</th>\n",
              "      <td>Социальные науки</td>\n",
              "      <td>Социологические науки</td>\n",
              "    </tr>\n",
              "    <tr>\n",
              "      <th>32</th>\n",
              "      <td>Социальные науки</td>\n",
              "      <td>Право</td>\n",
              "    </tr>\n",
              "    <tr>\n",
              "      <th>33</th>\n",
              "      <td>Социальные науки</td>\n",
              "      <td>Политологические науки</td>\n",
              "    </tr>\n",
              "    <tr>\n",
              "      <th>34</th>\n",
              "      <td>Социальные науки</td>\n",
              "      <td>Социальная и экономическая география</td>\n",
              "    </tr>\n",
              "    <tr>\n",
              "      <th>35</th>\n",
              "      <td>Социальные науки</td>\n",
              "      <td>СМИ (медиа) и массовые коммуникации</td>\n",
              "    </tr>\n",
              "  </tbody>\n",
              "</table>\n",
              "</div>\n",
              "      <button class=\"colab-df-convert\" onclick=\"convertToInteractive('df-afdf0f02-1dc3-43d2-9265-4f44a19578c9')\"\n",
              "              title=\"Convert this dataframe to an interactive table.\"\n",
              "              style=\"display:none;\">\n",
              "        \n",
              "  <svg xmlns=\"http://www.w3.org/2000/svg\" height=\"24px\"viewBox=\"0 0 24 24\"\n",
              "       width=\"24px\">\n",
              "    <path d=\"M0 0h24v24H0V0z\" fill=\"none\"/>\n",
              "    <path d=\"M18.56 5.44l.94 2.06.94-2.06 2.06-.94-2.06-.94-.94-2.06-.94 2.06-2.06.94zm-11 1L8.5 8.5l.94-2.06 2.06-.94-2.06-.94L8.5 2.5l-.94 2.06-2.06.94zm10 10l.94 2.06.94-2.06 2.06-.94-2.06-.94-.94-2.06-.94 2.06-2.06.94z\"/><path d=\"M17.41 7.96l-1.37-1.37c-.4-.4-.92-.59-1.43-.59-.52 0-1.04.2-1.43.59L10.3 9.45l-7.72 7.72c-.78.78-.78 2.05 0 2.83L4 21.41c.39.39.9.59 1.41.59.51 0 1.02-.2 1.41-.59l7.78-7.78 2.81-2.81c.8-.78.8-2.07 0-2.86zM5.41 20L4 18.59l7.72-7.72 1.47 1.35L5.41 20z\"/>\n",
              "  </svg>\n",
              "      </button>\n",
              "      \n",
              "  <style>\n",
              "    .colab-df-container {\n",
              "      display:flex;\n",
              "      flex-wrap:wrap;\n",
              "      gap: 12px;\n",
              "    }\n",
              "\n",
              "    .colab-df-convert {\n",
              "      background-color: #E8F0FE;\n",
              "      border: none;\n",
              "      border-radius: 50%;\n",
              "      cursor: pointer;\n",
              "      display: none;\n",
              "      fill: #1967D2;\n",
              "      height: 32px;\n",
              "      padding: 0 0 0 0;\n",
              "      width: 32px;\n",
              "    }\n",
              "\n",
              "    .colab-df-convert:hover {\n",
              "      background-color: #E2EBFA;\n",
              "      box-shadow: 0px 1px 2px rgba(60, 64, 67, 0.3), 0px 1px 3px 1px rgba(60, 64, 67, 0.15);\n",
              "      fill: #174EA6;\n",
              "    }\n",
              "\n",
              "    [theme=dark] .colab-df-convert {\n",
              "      background-color: #3B4455;\n",
              "      fill: #D2E3FC;\n",
              "    }\n",
              "\n",
              "    [theme=dark] .colab-df-convert:hover {\n",
              "      background-color: #434B5C;\n",
              "      box-shadow: 0px 1px 3px 1px rgba(0, 0, 0, 0.15);\n",
              "      filter: drop-shadow(0px 1px 2px rgba(0, 0, 0, 0.3));\n",
              "      fill: #FFFFFF;\n",
              "    }\n",
              "  </style>\n",
              "\n",
              "      <script>\n",
              "        const buttonEl =\n",
              "          document.querySelector('#df-afdf0f02-1dc3-43d2-9265-4f44a19578c9 button.colab-df-convert');\n",
              "        buttonEl.style.display =\n",
              "          google.colab.kernel.accessAllowed ? 'block' : 'none';\n",
              "\n",
              "        async function convertToInteractive(key) {\n",
              "          const element = document.querySelector('#df-afdf0f02-1dc3-43d2-9265-4f44a19578c9');\n",
              "          const dataTable =\n",
              "            await google.colab.kernel.invokeFunction('convertToInteractive',\n",
              "                                                     [key], {});\n",
              "          if (!dataTable) return;\n",
              "\n",
              "          const docLinkHtml = 'Like what you see? Visit the ' +\n",
              "            '<a target=\"_blank\" href=https://colab.research.google.com/notebooks/data_table.ipynb>data table notebook</a>'\n",
              "            + ' to learn more about interactive tables.';\n",
              "          element.innerHTML = '';\n",
              "          dataTable['output_type'] = 'display_data';\n",
              "          await google.colab.output.renderOutput(dataTable, element);\n",
              "          const docLink = document.createElement('div');\n",
              "          docLink.innerHTML = docLinkHtml;\n",
              "          element.appendChild(docLink);\n",
              "        }\n",
              "      </script>\n",
              "    </div>\n",
              "  </div>\n",
              "  "
            ],
            "text/plain": [
              "                     main_theme                                              theme\n",
              "0             Медицинские науки                           Фундаментальная медицина\n",
              "1             Медицинские науки                               Клиническая медицина\n",
              "2             Медицинские науки                                   Науки о здоровье\n",
              "3             Медицинские науки                           Биотехнологии в медицине\n",
              "4   Естественные и точные науки                                         Математика\n",
              "5   Естественные и точные науки                Компьютерные и информационные науки\n",
              "6   Естественные и точные науки                                             Физика\n",
              "7   Естественные и точные науки                                   Химические науки\n",
              "8   Естественные и точные науки        Науки о Земле и смежные экологические науки\n",
              "9   Естественные и точные науки                                Биологические науки\n",
              "10         Техника и технологии                        Строительство и архитектура\n",
              "11         Техника и технологии  Электротехника, электронная техника, информаци...\n",
              "12         Техника и технологии                          Механика и машиностроение\n",
              "13         Техника и технологии                              Химические технологии\n",
              "14         Техника и технологии                              Технологии материалов\n",
              "15         Техника и технологии                             Медицинские технологии\n",
              "16         Техника и технологии       Энергетика и рациональное природопользование\n",
              "17         Техника и технологии                        Экологические биотехнологии\n",
              "18         Техника и технологии                         Промышленные биотехнологии\n",
              "19         Техника и технологии                                     Нанотехнологии\n",
              "20           Гуманитарные науки                               История и археология\n",
              "21           Гуманитарные науки                    Языкознание и литературоведение\n",
              "22           Гуманитарные науки                   Философия, этика, религиоведение\n",
              "23           Гуманитарные науки                                   Искусствоведение\n",
              "24   Сельскохозяйственные науки  Сельское хозяйство, лесное хозяйство, рыбное х...\n",
              "25   Сельскохозяйственные науки                     Животноводство и молочное дело\n",
              "26   Сельскохозяйственные науки                                 Ветеринарные науки\n",
              "27   Сельскохозяйственные науки                                  Агробиотехнологии\n",
              "28             Социальные науки                              Психологические науки\n",
              "29             Социальные науки                                 Экономика и бизнес\n",
              "30             Социальные науки                               Науки об образовании\n",
              "31             Социальные науки                              Социологические науки\n",
              "32             Социальные науки                                              Право\n",
              "33             Социальные науки                             Политологические науки\n",
              "34             Социальные науки               Социальная и экономическая география\n",
              "35             Социальные науки                СМИ (медиа) и массовые коммуникации"
            ]
          },
          "metadata": {},
          "execution_count": 44
        }
      ]
    },
    {
      "cell_type": "code",
      "source": [
        "join = pd.merge(head, articles, 'inner')"
      ],
      "metadata": {
        "id": "4522YjMVhIlX"
      },
      "execution_count": 46,
      "outputs": []
    },
    {
      "cell_type": "code",
      "source": [
        "join"
      ],
      "metadata": {
        "colab": {
          "base_uri": "https://localhost:8080/",
          "height": 901
        },
        "id": "EzCdcX799Sn4",
        "outputId": "9c1a8dbc-fc50-4e23-dee9-f000da6ff42f"
      },
      "execution_count": 47,
      "outputs": [
        {
          "output_type": "execute_result",
          "data": {
            "text/html": [
              "\n",
              "  <div id=\"df-3ae6b0e0-3007-4228-a336-cf3b365fbad2\">\n",
              "    <div class=\"colab-df-container\">\n",
              "      <div>\n",
              "<style scoped>\n",
              "    .dataframe tbody tr th:only-of-type {\n",
              "        vertical-align: middle;\n",
              "    }\n",
              "\n",
              "    .dataframe tbody tr th {\n",
              "        vertical-align: top;\n",
              "    }\n",
              "\n",
              "    .dataframe thead th {\n",
              "        text-align: right;\n",
              "    }\n",
              "</style>\n",
              "<table border=\"1\" class=\"dataframe\">\n",
              "  <thead>\n",
              "    <tr style=\"text-align: right;\">\n",
              "      <th></th>\n",
              "      <th>main_theme</th>\n",
              "      <th>theme</th>\n",
              "      <th>title</th>\n",
              "      <th>year</th>\n",
              "      <th>authors</th>\n",
              "      <th>link</th>\n",
              "      <th>ВАК</th>\n",
              "      <th>Scopus</th>\n",
              "      <th>ECSI</th>\n",
              "      <th>RSCI</th>\n",
              "    </tr>\n",
              "  </thead>\n",
              "  <tbody>\n",
              "    <tr>\n",
              "      <th>0</th>\n",
              "      <td>Медицинские науки</td>\n",
              "      <td>Фундаментальная медицина</td>\n",
              "      <td>assotiation personality disorders late life de...</td>\n",
              "      <td>2021</td>\n",
              "      <td>[' Krsteska R.']</td>\n",
              "      <td>https://cyberleninka.ru//article/n/the-assotia...</td>\n",
              "      <td>1</td>\n",
              "      <td>0</td>\n",
              "      <td>0</td>\n",
              "      <td>0</td>\n",
              "    </tr>\n",
              "    <tr>\n",
              "      <th>1</th>\n",
              "      <td>Медицинские науки</td>\n",
              "      <td>Фундаментальная медицина</td>\n",
              "      <td>симуляционный курс основа подготовка специалис...</td>\n",
              "      <td>2021</td>\n",
              "      <td>[' Таиров В.В.', ' Адамчик А.А.', ' Камышников...</td>\n",
              "      <td>https://cyberleninka.ru//article/n/simulyatsio...</td>\n",
              "      <td>1</td>\n",
              "      <td>0</td>\n",
              "      <td>0</td>\n",
              "      <td>0</td>\n",
              "    </tr>\n",
              "    <tr>\n",
              "      <th>2</th>\n",
              "      <td>Медицинские науки</td>\n",
              "      <td>Фундаментальная медицина</td>\n",
              "      <td>исследование производный оксипиридина белковоо...</td>\n",
              "      <td>2021</td>\n",
              "      <td>[' Трескунова Е.В.', ' Свиридонова С.В.']</td>\n",
              "      <td>https://cyberleninka.ru//article/n/issledovani...</td>\n",
              "      <td>1</td>\n",
              "      <td>0</td>\n",
              "      <td>0</td>\n",
              "      <td>0</td>\n",
              "    </tr>\n",
              "    <tr>\n",
              "      <th>3</th>\n",
              "      <td>Медицинские науки</td>\n",
              "      <td>Фундаментальная медицина</td>\n",
              "      <td>вопрос безопасность разработать суспензия пиро...</td>\n",
              "      <td>2021</td>\n",
              "      <td>[' Илькевич Е.В.', ' Воронков А.В.', ' Степано...</td>\n",
              "      <td>https://cyberleninka.ru//article/n/voprosy-bez...</td>\n",
              "      <td>1</td>\n",
              "      <td>0</td>\n",
              "      <td>0</td>\n",
              "      <td>0</td>\n",
              "    </tr>\n",
              "    <tr>\n",
              "      <th>4</th>\n",
              "      <td>Медицинские науки</td>\n",
              "      <td>Фундаментальная медицина</td>\n",
              "      <td>разработка валидация вэжх мс мс методика колич...</td>\n",
              "      <td>2021</td>\n",
              "      <td>[' Шестакова К.М.', ' Москалева Н.Е.', ' Месон...</td>\n",
              "      <td>https://cyberleninka.ru//article/n/razrabotka-...</td>\n",
              "      <td>1</td>\n",
              "      <td>0</td>\n",
              "      <td>0</td>\n",
              "      <td>0</td>\n",
              "    </tr>\n",
              "    <tr>\n",
              "      <th>...</th>\n",
              "      <td>...</td>\n",
              "      <td>...</td>\n",
              "      <td>...</td>\n",
              "      <td>...</td>\n",
              "      <td>...</td>\n",
              "      <td>...</td>\n",
              "      <td>...</td>\n",
              "      <td>...</td>\n",
              "      <td>...</td>\n",
              "      <td>...</td>\n",
              "    </tr>\n",
              "    <tr>\n",
              "      <th>178288</th>\n",
              "      <td>Социальные науки</td>\n",
              "      <td>СМИ (медиа) и массовые коммуникации</td>\n",
              "      <td>особенность работа сми советский постсоветский...</td>\n",
              "      <td>2013</td>\n",
              "      <td>[' Касаткин Сергей Сергеевич']</td>\n",
              "      <td>https://cyberleninka.ru//article/n/osobennosti...</td>\n",
              "      <td>1</td>\n",
              "      <td>0</td>\n",
              "      <td>0</td>\n",
              "      <td>0</td>\n",
              "    </tr>\n",
              "    <tr>\n",
              "      <th>178289</th>\n",
              "      <td>Социальные науки</td>\n",
              "      <td>СМИ (медиа) и массовые коммуникации</td>\n",
              "      <td>подросток интернет среда общение чтение поведение</td>\n",
              "      <td>2013</td>\n",
              "      <td>[' Губанова Александра Юрьевна']</td>\n",
              "      <td>https://cyberleninka.ru//article/n/podrostki-v...</td>\n",
              "      <td>1</td>\n",
              "      <td>0</td>\n",
              "      <td>0</td>\n",
              "      <td>0</td>\n",
              "    </tr>\n",
              "    <tr>\n",
              "      <th>178290</th>\n",
              "      <td>Социальные науки</td>\n",
              "      <td>СМИ (медиа) и массовые коммуникации</td>\n",
              "      <td>социальный картографирование эволюция метод</td>\n",
              "      <td>2013</td>\n",
              "      <td>[' Стрельникова Анна Владимировна']</td>\n",
              "      <td>https://cyberleninka.ru//article/n/sotsialnoe-...</td>\n",
              "      <td>1</td>\n",
              "      <td>0</td>\n",
              "      <td>0</td>\n",
              "      <td>0</td>\n",
              "    </tr>\n",
              "    <tr>\n",
              "      <th>178291</th>\n",
              "      <td>Социальные науки</td>\n",
              "      <td>СМИ (медиа) и массовые коммуникации</td>\n",
              "      <td>специфика метод медиаметрических исследование ...</td>\n",
              "      <td>2012</td>\n",
              "      <td>[' Попов Владимир Владимирович']</td>\n",
              "      <td>https://cyberleninka.ru//article/n/spetsifika-...</td>\n",
              "      <td>1</td>\n",
              "      <td>0</td>\n",
              "      <td>0</td>\n",
              "      <td>0</td>\n",
              "    </tr>\n",
              "    <tr>\n",
              "      <th>178292</th>\n",
              "      <td>Социальные науки</td>\n",
              "      <td>СМИ (медиа) и массовые коммуникации</td>\n",
              "      <td>аудитория современный московский театр социоку...</td>\n",
              "      <td>2012</td>\n",
              "      <td>[' Круковская Анна Владимировна']</td>\n",
              "      <td>https://cyberleninka.ru//article/n/auditoriya-...</td>\n",
              "      <td>1</td>\n",
              "      <td>0</td>\n",
              "      <td>0</td>\n",
              "      <td>0</td>\n",
              "    </tr>\n",
              "  </tbody>\n",
              "</table>\n",
              "<p>178293 rows × 10 columns</p>\n",
              "</div>\n",
              "      <button class=\"colab-df-convert\" onclick=\"convertToInteractive('df-3ae6b0e0-3007-4228-a336-cf3b365fbad2')\"\n",
              "              title=\"Convert this dataframe to an interactive table.\"\n",
              "              style=\"display:none;\">\n",
              "        \n",
              "  <svg xmlns=\"http://www.w3.org/2000/svg\" height=\"24px\"viewBox=\"0 0 24 24\"\n",
              "       width=\"24px\">\n",
              "    <path d=\"M0 0h24v24H0V0z\" fill=\"none\"/>\n",
              "    <path d=\"M18.56 5.44l.94 2.06.94-2.06 2.06-.94-2.06-.94-.94-2.06-.94 2.06-2.06.94zm-11 1L8.5 8.5l.94-2.06 2.06-.94-2.06-.94L8.5 2.5l-.94 2.06-2.06.94zm10 10l.94 2.06.94-2.06 2.06-.94-2.06-.94-.94-2.06-.94 2.06-2.06.94z\"/><path d=\"M17.41 7.96l-1.37-1.37c-.4-.4-.92-.59-1.43-.59-.52 0-1.04.2-1.43.59L10.3 9.45l-7.72 7.72c-.78.78-.78 2.05 0 2.83L4 21.41c.39.39.9.59 1.41.59.51 0 1.02-.2 1.41-.59l7.78-7.78 2.81-2.81c.8-.78.8-2.07 0-2.86zM5.41 20L4 18.59l7.72-7.72 1.47 1.35L5.41 20z\"/>\n",
              "  </svg>\n",
              "      </button>\n",
              "      \n",
              "  <style>\n",
              "    .colab-df-container {\n",
              "      display:flex;\n",
              "      flex-wrap:wrap;\n",
              "      gap: 12px;\n",
              "    }\n",
              "\n",
              "    .colab-df-convert {\n",
              "      background-color: #E8F0FE;\n",
              "      border: none;\n",
              "      border-radius: 50%;\n",
              "      cursor: pointer;\n",
              "      display: none;\n",
              "      fill: #1967D2;\n",
              "      height: 32px;\n",
              "      padding: 0 0 0 0;\n",
              "      width: 32px;\n",
              "    }\n",
              "\n",
              "    .colab-df-convert:hover {\n",
              "      background-color: #E2EBFA;\n",
              "      box-shadow: 0px 1px 2px rgba(60, 64, 67, 0.3), 0px 1px 3px 1px rgba(60, 64, 67, 0.15);\n",
              "      fill: #174EA6;\n",
              "    }\n",
              "\n",
              "    [theme=dark] .colab-df-convert {\n",
              "      background-color: #3B4455;\n",
              "      fill: #D2E3FC;\n",
              "    }\n",
              "\n",
              "    [theme=dark] .colab-df-convert:hover {\n",
              "      background-color: #434B5C;\n",
              "      box-shadow: 0px 1px 3px 1px rgba(0, 0, 0, 0.15);\n",
              "      filter: drop-shadow(0px 1px 2px rgba(0, 0, 0, 0.3));\n",
              "      fill: #FFFFFF;\n",
              "    }\n",
              "  </style>\n",
              "\n",
              "      <script>\n",
              "        const buttonEl =\n",
              "          document.querySelector('#df-3ae6b0e0-3007-4228-a336-cf3b365fbad2 button.colab-df-convert');\n",
              "        buttonEl.style.display =\n",
              "          google.colab.kernel.accessAllowed ? 'block' : 'none';\n",
              "\n",
              "        async function convertToInteractive(key) {\n",
              "          const element = document.querySelector('#df-3ae6b0e0-3007-4228-a336-cf3b365fbad2');\n",
              "          const dataTable =\n",
              "            await google.colab.kernel.invokeFunction('convertToInteractive',\n",
              "                                                     [key], {});\n",
              "          if (!dataTable) return;\n",
              "\n",
              "          const docLinkHtml = 'Like what you see? Visit the ' +\n",
              "            '<a target=\"_blank\" href=https://colab.research.google.com/notebooks/data_table.ipynb>data table notebook</a>'\n",
              "            + ' to learn more about interactive tables.';\n",
              "          element.innerHTML = '';\n",
              "          dataTable['output_type'] = 'display_data';\n",
              "          await google.colab.output.renderOutput(dataTable, element);\n",
              "          const docLink = document.createElement('div');\n",
              "          docLink.innerHTML = docLinkHtml;\n",
              "          element.appendChild(docLink);\n",
              "        }\n",
              "      </script>\n",
              "    </div>\n",
              "  </div>\n",
              "  "
            ],
            "text/plain": [
              "               main_theme                                theme  ... ECSI  RSCI\n",
              "0       Медицинские науки             Фундаментальная медицина  ...    0     0\n",
              "1       Медицинские науки             Фундаментальная медицина  ...    0     0\n",
              "2       Медицинские науки             Фундаментальная медицина  ...    0     0\n",
              "3       Медицинские науки             Фундаментальная медицина  ...    0     0\n",
              "4       Медицинские науки             Фундаментальная медицина  ...    0     0\n",
              "...                   ...                                  ...  ...  ...   ...\n",
              "178288   Социальные науки  СМИ (медиа) и массовые коммуникации  ...    0     0\n",
              "178289   Социальные науки  СМИ (медиа) и массовые коммуникации  ...    0     0\n",
              "178290   Социальные науки  СМИ (медиа) и массовые коммуникации  ...    0     0\n",
              "178291   Социальные науки  СМИ (медиа) и массовые коммуникации  ...    0     0\n",
              "178292   Социальные науки  СМИ (медиа) и массовые коммуникации  ...    0     0\n",
              "\n",
              "[178293 rows x 10 columns]"
            ]
          },
          "metadata": {},
          "execution_count": 47
        }
      ]
    },
    {
      "cell_type": "code",
      "source": [
        "le.fit(join.main_theme)"
      ],
      "metadata": {
        "colab": {
          "base_uri": "https://localhost:8080/"
        },
        "id": "l2ziZL1M-kmo",
        "outputId": "f5ae04d5-0058-4508-9a75-8a231ba39d51"
      },
      "execution_count": 48,
      "outputs": [
        {
          "output_type": "execute_result",
          "data": {
            "text/plain": [
              "LabelEncoder()"
            ]
          },
          "metadata": {},
          "execution_count": 48
        }
      ]
    },
    {
      "cell_type": "code",
      "source": [
        "join.main_theme = le.transform(join.main_theme)"
      ],
      "metadata": {
        "id": "MZdfc1P5-spK"
      },
      "execution_count": 49,
      "outputs": []
    },
    {
      "cell_type": "code",
      "source": [
        "data = join['title']"
      ],
      "metadata": {
        "id": "vUnu9Xwz-zhm"
      },
      "execution_count": 54,
      "outputs": []
    },
    {
      "cell_type": "code",
      "source": [
        "data"
      ],
      "metadata": {
        "colab": {
          "base_uri": "https://localhost:8080/"
        },
        "id": "USWpFpmr_N9x",
        "outputId": "867a8d7e-fd32-41fd-96f9-1a308ef19240"
      },
      "execution_count": 55,
      "outputs": [
        {
          "output_type": "execute_result",
          "data": {
            "text/plain": [
              "0         assotiation personality disorders late life de...\n",
              "1         симуляционный курс основа подготовка специалис...\n",
              "2         исследование производный оксипиридина белковоо...\n",
              "3         вопрос безопасность разработать суспензия пиро...\n",
              "4         разработка валидация вэжх мс мс методика колич...\n",
              "                                ...                        \n",
              "178288    особенность работа сми советский постсоветский...\n",
              "178289    подросток интернет среда общение чтение поведение\n",
              "178290          социальный картографирование эволюция метод\n",
              "178291    специфика метод медиаметрических исследование ...\n",
              "178292    аудитория современный московский театр социоку...\n",
              "Name: title, Length: 178293, dtype: object"
            ]
          },
          "metadata": {},
          "execution_count": 55
        }
      ]
    },
    {
      "cell_type": "code",
      "source": [
        "data_train, df_val = train_test_split(data, test_size=0.2, random_state=42)"
      ],
      "metadata": {
        "id": "tRjeB0Vo_cqO"
      },
      "execution_count": 56,
      "outputs": []
    },
    {
      "cell_type": "code",
      "source": [
        "y = join[\"main_theme\"].astype(int).values\n",
        "y_train, y_val = train_test_split(y, test_size=0.2, random_state=42)"
      ],
      "metadata": {
        "id": "HkoyNqp9_dwz"
      },
      "execution_count": 57,
      "outputs": []
    },
    {
      "cell_type": "code",
      "source": [
        "pipeline.fit(data_train, y_train)"
      ],
      "metadata": {
        "colab": {
          "base_uri": "https://localhost:8080/"
        },
        "id": "LHrtBOr-_mW9",
        "outputId": "df599346-44c7-42ba-9093-8ecaabd6fecc"
      },
      "execution_count": 63,
      "outputs": [
        {
          "output_type": "execute_result",
          "data": {
            "text/plain": [
              "Pipeline(steps=[('features',\n",
              "                 FeatureUnion(transformer_list=[('vectorizer',\n",
              "                                                 TfidfVectorizer(max_df=0.9,\n",
              "                                                                 min_df=5))])),\n",
              "                ('clf',\n",
              "                 VotingClassifier(estimators=[('forest',\n",
              "                                               RandomForestClassifier(class_weight='balanced',\n",
              "                                                                      max_features='sqrt',\n",
              "                                                                      random_state=42)),\n",
              "                                              ('logreg',\n",
              "                                               LogisticRegression(C=5.0,\n",
              "                                                                  class_weight='balanced',\n",
              "                                                                  max_iter=1000,\n",
              "                                                                  random_state=42,\n",
              "                                                                  solver='liblinear'))],\n",
              "                                  voting='soft'))])"
            ]
          },
          "metadata": {},
          "execution_count": 63
        }
      ]
    },
    {
      "cell_type": "code",
      "source": [
        "y_pred = pipeline.predict(df_val)"
      ],
      "metadata": {
        "id": "atX9tSJK_6fj"
      },
      "execution_count": 65,
      "outputs": []
    },
    {
      "cell_type": "code",
      "source": [
        "f1_score(\n",
        "    y_val,\n",
        "    y_pred,\n",
        "    average = 'micro'\n",
        ")"
      ],
      "metadata": {
        "colab": {
          "base_uri": "https://localhost:8080/"
        },
        "id": "luwSuvteACVj",
        "outputId": "d8f5b5e3-e66e-49fc-c667-7220954acc20"
      },
      "execution_count": 66,
      "outputs": [
        {
          "output_type": "execute_result",
          "data": {
            "text/plain": [
              "0.7727642390420371"
            ]
          },
          "metadata": {},
          "execution_count": 66
        }
      ]
    },
    {
      "cell_type": "code",
      "source": [
        "accuracy_score(\n",
        "    y_val,\n",
        "    y_pred\n",
        "  )"
      ],
      "metadata": {
        "colab": {
          "base_uri": "https://localhost:8080/"
        },
        "id": "0aAOtM5sAFK4",
        "outputId": "0896838a-9f74-4eab-d117-5db63f5abf83"
      },
      "execution_count": 67,
      "outputs": [
        {
          "output_type": "execute_result",
          "data": {
            "text/plain": [
              "0.7727642390420371"
            ]
          },
          "metadata": {},
          "execution_count": 67
        }
      ]
    }
  ],
  "metadata": {
    "kernelspec": {
      "display_name": "Python 3",
      "language": "python",
      "name": "python3"
    },
    "language_info": {
      "codemirror_mode": {
        "name": "ipython",
        "version": 3
      },
      "file_extension": ".py",
      "mimetype": "text/x-python",
      "name": "python",
      "nbconvert_exporter": "python",
      "pygments_lexer": "ipython3",
      "version": "3.8.5"
    },
    "colab": {
      "name": "research.ipynb",
      "provenance": [],
      "collapsed_sections": []
    }
  },
  "nbformat": 4,
  "nbformat_minor": 0
}